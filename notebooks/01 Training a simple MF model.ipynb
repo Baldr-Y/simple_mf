{
 "cells": [
  {
   "cell_type": "markdown",
   "metadata": {
    "slideshow": {
     "slide_type": "slide"
    }
   },
   "source": [
    "### Load preprocessed data"
   ]
  },
  {
   "cell_type": "code",
   "execution_count": 21,
   "metadata": {
    "slideshow": {
     "slide_type": "subslide"
    }
   },
   "outputs": [
    {
     "data": {
      "text/plain": [
       "(array(6041), array([[   1, 1193,   11,   10],\n",
       "        [   1,  914,   26,   10],\n",
       "        [   1, 3408,    7,   10],\n",
       "        ...,\n",
       "        [6040,  562,   37,    6],\n",
       "        [6040, 1096,  109,    6],\n",
       "        [6040, 1097,   99,    6]]))"
      ]
     },
     "execution_count": 21,
     "metadata": {},
     "output_type": "execute_result"
    }
   ],
   "source": [
    "import numpy as np\n",
    "fh = np.load('../data/dataset.npz')\n",
    "\n",
    "# We have a bunch of feature columns and last column is the y-target\n",
    "# Note pytorch is finicky about need int64 types\n",
    "train_x = fh['train_x'].astype(np.int64)\n",
    "train_y = fh['train_y']\n",
    "\n",
    "# We've already split into train & test\n",
    "test_x = fh['test_x'].astype(np.int64)\n",
    "test_y = fh['test_y']\n",
    "\n",
    "\n",
    "n_user = fh['n_user']\n",
    "n_item = fh['n_item']\n",
    "\n",
    "# columns are user_id, item_id and other features \n",
    "# we won't use the 3rd and 4th columns\n",
    "n_user, train_x"
   ]
  },
  {
   "cell_type": "markdown",
   "metadata": {
    "slideshow": {
     "slide_type": "slide"
    }
   },
   "source": [
    "### Define the MF Model"
   ]
  },
  {
   "cell_type": "code",
   "execution_count": 22,
   "metadata": {
    "slideshow": {
     "slide_type": "subslide"
    }
   },
   "outputs": [],
   "source": [
    "import torch\n",
    "from torch import nn\n",
    "import torch.nn.functional as F"
   ]
  },
  {
   "cell_type": "code",
   "execution_count": 23,
   "metadata": {
    "slideshow": {
     "slide_type": "slide"
    }
   },
   "outputs": [],
   "source": [
    "class MF(nn.Module):\n",
    "    itr = 0\n",
    "    def __init__(self, n_user, n_item, k=18, c_vector=1.0, writer=None):\n",
    "        super(MF, self).__init__()\n",
    "        # This will hold the logging\n",
    "        self.writer = writer\n",
    "        \n",
    "        # These are simple hyperparameters\n",
    "        self.k = k\n",
    "        self.n_user = n_user\n",
    "        self.n_item = n_item\n",
    "        self.c_vector = c_vector\n",
    "        \n",
    "        # These are learned and fit by PyTorch\n",
    "        self.user = nn.Embedding(n_user, k)\n",
    "        self.item = nn.Embedding(n_item, k)\n",
    "    \n",
    "    def __call__(self, train_x):\n",
    "        # This is the most import function in this script\n",
    "        # These are the user indices, and correspond to \"u\" variable\n",
    "        user_id = train_x[:, 0]\n",
    "        # Item indices, correspond to the \"i\" variable\n",
    "        item_id = train_x[:, 1]\n",
    "        # vector user = p_u\n",
    "        vector_user = self.user(user_id)\n",
    "        # vector item = q_i\n",
    "        vector_item = self.item(item_id)\n",
    "        # this is a dot product & a user-item interaction: p_u * q_i\n",
    "        ui_interaction = torch.sum(vector_user * vector_item, dim=1)\n",
    "        return ui_interaction\n",
    "    \n",
    "    def loss(self, prediction, target):\n",
    "        # MSE error between target = R_ui and prediction = p_u * q_i\n",
    "        loss_mse = F.mse_loss(prediction, target.squeeze())\n",
    "        # Compute L2 reularization over user (P) and item (Q) matrices\n",
    "        prior_user =  l2_regularize(self.user.weight) * self.c_vector\n",
    "        prior_item = l2_regularize(self.item.weight) * self.c_vector\n",
    "        # Add up the MSE loss + user & item regularization\n",
    "        total = loss_mse + prior_user + prior_item\n",
    "        \n",
    "        # This logs all local variables to tensorboard\n",
    "        for name, var in locals().items():\n",
    "            if type(var) is torch.Tensor and var.nelement() == 1 and self.writer is not None:\n",
    "                self.writer.add_scalar(name, var, self.itr)\n",
    "        return total"
   ]
  },
  {
   "cell_type": "code",
   "execution_count": 24,
   "metadata": {
    "slideshow": {
     "slide_type": "subslide"
    }
   },
   "outputs": [],
   "source": [
    "def l2_regularize(array):\n",
    "    loss = torch.sum(array ** 2.0)\n",
    "    return loss"
   ]
  },
  {
   "cell_type": "markdown",
   "metadata": {
    "slideshow": {
     "slide_type": "slide"
    }
   },
   "source": [
    "### Train model"
   ]
  },
  {
   "cell_type": "code",
   "execution_count": 33,
   "metadata": {
    "slideshow": {
     "slide_type": "subslide"
    }
   },
   "outputs": [],
   "source": [
    "from ignite.engine import Events, create_supervised_trainer, create_supervised_evaluator\n",
    "from ignite.metrics import Loss\n",
    "from ignite.metrics import MeanSquaredError\n",
    "\n",
    "from tensorboardX import SummaryWriter\n",
    "\n",
    "from loader import Loader\n",
    "from datetime import datetime"
   ]
  },
  {
   "cell_type": "code",
   "execution_count": 34,
   "metadata": {
    "slideshow": {
     "slide_type": "subslide"
    }
   },
   "outputs": [
    {
     "name": "stdout",
     "output_type": "stream",
     "text": [
      "runs/simple_mf_01_2018-08-20_14:10:36.936711\n"
     ]
    }
   ],
   "source": [
    "# Hyperparameters\n",
    "lr = 1e-2\n",
    "# Number of dimensions per user, item\n",
    "k = 10\n",
    "# regularization constant\n",
    "c_vector = 1e-6\n",
    "\n",
    "# Setup logging\n",
    "log_dir = 'runs/simple_mf_01_' + str(datetime.now()).replace(' ', '_')\n",
    "print(log_dir)\n",
    "writer = SummaryWriter(log_dir=log_dir)"
   ]
  },
  {
   "cell_type": "code",
   "execution_count": 35,
   "metadata": {
    "slideshow": {
     "slide_type": "subslide"
    }
   },
   "outputs": [],
   "source": [
    "model = MF(n_user, n_item, writer=writer, k=k, c_vector=c_vector)\n",
    "optimizer = torch.optim.Adam(model.parameters(), lr=lr)\n",
    "\n",
    "trainer = create_supervised_trainer(model, optimizer, model.loss)\n",
    "metrics = {'accuracy': MeanSquaredError()}\n",
    "evaluat = create_supervised_evaluator(model, metrics=metrics)\n",
    "\n",
    "train_loader = Loader(train_x, train_y, batchsize=1024)\n",
    "test_loader = Loader(test_x, test_y, batchsize=1024)"
   ]
  },
  {
   "cell_type": "code",
   "execution_count": 36,
   "metadata": {
    "slideshow": {
     "slide_type": "subslide"
    }
   },
   "outputs": [
    {
     "data": {
      "text/plain": [
       "MF(\n",
       "  (user): Embedding(6041, 10)\n",
       "  (item): Embedding(3953, 10)\n",
       ")"
      ]
     },
     "execution_count": 36,
     "metadata": {},
     "output_type": "execute_result"
    }
   ],
   "source": [
    "def log_training_loss(engine, log_interval=400):\n",
    "    model.itr = engine.state.iteration\n",
    "    if model.itr % log_interval == 0:\n",
    "        fmt = \"Epoch[{}] Iteration[{}/{}] Loss: {:.2f}\"\n",
    "        msg = fmt.format(engine.state.epoch, engine.state.iteration, \n",
    "                         len(train_loader), engine.state.output)\n",
    "        print(msg)\n",
    "\n",
    "trainer.add_event_handler(event_name=Events.ITERATION_COMPLETED, handler=log_training_loss)\n",
    "\n",
    "def log_validation_results(engine):\n",
    "    # When triggered, run the validation set\n",
    "    evaluat.run(test_loader)\n",
    "    avg_accuracy = evaluat.state.metrics['accuracy']\n",
    "    print(\"Epoch[{}] Validation MSE: {:.2f} \".format(engine.state.epoch, avg_accuracy))\n",
    "    writer.add_scalar(\"validation/avg_accuracy\", avg_accuracy, engine.state.epoch)\n",
    "\n",
    "trainer.add_event_handler(event_name=Events.EPOCH_COMPLETED, handler=log_validation_results)\n",
    "\n",
    "\n",
    "model"
   ]
  },
  {
   "cell_type": "markdown",
   "metadata": {
    "slideshow": {
     "slide_type": "slide"
    }
   },
   "source": [
    "#### Run model"
   ]
  },
  {
   "cell_type": "code",
   "execution_count": 37,
   "metadata": {
    "scrolled": false,
    "slideshow": {
     "slide_type": "slide"
    }
   },
   "outputs": [
    {
     "name": "stdout",
     "output_type": "stream",
     "text": [
      "Epoch[1] Iteration[400/879] Loss: 15.70\n",
      "Epoch[1] Iteration[800/879] Loss: 3.88\n",
      "Epoch[1] Validation MSE: 2.60 \n",
      "Epoch[2] Iteration[1200/879] Loss: 1.31\n",
      "Epoch[2] Iteration[1600/879] Loss: 1.14\n",
      "Epoch[2] Validation MSE: 1.03 \n",
      "Epoch[3] Iteration[2000/879] Loss: 0.98\n",
      "Epoch[3] Iteration[2400/879] Loss: 1.00\n",
      "Epoch[3] Validation MSE: 0.92 \n",
      "Epoch[4] Iteration[2800/879] Loss: 0.81\n",
      "Epoch[4] Iteration[3200/879] Loss: 0.92\n",
      "Epoch[4] Validation MSE: 0.89 \n",
      "Epoch[5] Iteration[3600/879] Loss: 0.87\n",
      "Epoch[5] Iteration[4000/879] Loss: 0.85\n",
      "Epoch[5] Validation MSE: 0.87 \n",
      "Epoch[6] Iteration[4400/879] Loss: 0.81\n",
      "Epoch[6] Iteration[4800/879] Loss: 0.86\n",
      "Epoch[6] Iteration[5200/879] Loss: 0.89\n",
      "Epoch[6] Validation MSE: 0.86 \n",
      "Epoch[7] Iteration[5600/879] Loss: 0.86\n",
      "Epoch[7] Iteration[6000/879] Loss: 0.82\n",
      "Epoch[7] Validation MSE: 0.85 \n",
      "Epoch[8] Iteration[6400/879] Loss: 0.78\n",
      "Epoch[8] Iteration[6800/879] Loss: 0.79\n",
      "Epoch[8] Validation MSE: 0.84 \n",
      "Epoch[9] Iteration[7200/879] Loss: 0.77\n",
      "Epoch[9] Iteration[7600/879] Loss: 0.86\n",
      "Epoch[9] Validation MSE: 0.83 \n",
      "Epoch[10] Iteration[8000/879] Loss: 0.73\n",
      "Epoch[10] Iteration[8400/879] Loss: 0.75\n",
      "Epoch[10] Validation MSE: 0.82 \n",
      "Epoch[11] Iteration[8800/879] Loss: 0.68\n",
      "Epoch[11] Iteration[9200/879] Loss: 0.79\n",
      "Epoch[11] Iteration[9600/879] Loss: 0.78\n",
      "Epoch[11] Validation MSE: 0.82 \n",
      "Epoch[12] Iteration[10000/879] Loss: 0.74\n",
      "Epoch[12] Iteration[10400/879] Loss: 0.76\n",
      "Epoch[12] Validation MSE: 0.81 \n",
      "Epoch[13] Iteration[10800/879] Loss: 0.80\n",
      "Epoch[13] Iteration[11200/879] Loss: 0.84\n",
      "Epoch[13] Validation MSE: 0.81 \n",
      "Epoch[14] Iteration[11600/879] Loss: 0.69\n",
      "Epoch[14] Iteration[12000/879] Loss: 0.73\n",
      "Epoch[14] Validation MSE: 0.81 \n",
      "Epoch[15] Iteration[12400/879] Loss: 0.70\n",
      "Epoch[15] Iteration[12800/879] Loss: 0.72\n",
      "Epoch[15] Validation MSE: 0.81 \n",
      "Epoch[16] Iteration[13200/879] Loss: 0.69\n",
      "Epoch[16] Iteration[13600/879] Loss: 0.75\n",
      "Epoch[16] Iteration[14000/879] Loss: 0.80\n",
      "Epoch[16] Validation MSE: 0.80 \n",
      "Epoch[17] Iteration[14400/879] Loss: 0.69\n",
      "Epoch[17] Iteration[14800/879] Loss: 0.69\n",
      "Epoch[17] Validation MSE: 0.80 \n",
      "Epoch[18] Iteration[15200/879] Loss: 0.73\n",
      "Epoch[18] Iteration[15600/879] Loss: 0.69\n",
      "Epoch[18] Validation MSE: 0.80 \n",
      "Epoch[19] Iteration[16000/879] Loss: 0.76\n",
      "Epoch[19] Iteration[16400/879] Loss: 0.77\n",
      "Epoch[19] Validation MSE: 0.80 \n",
      "Epoch[20] Iteration[16800/879] Loss: 0.78\n",
      "Epoch[20] Iteration[17200/879] Loss: 0.77\n",
      "Epoch[20] Validation MSE: 0.80 \n",
      "Epoch[21] Iteration[17600/879] Loss: 0.66\n",
      "Epoch[21] Iteration[18000/879] Loss: 0.77\n",
      "Epoch[21] Iteration[18400/879] Loss: 0.75\n",
      "Epoch[21] Validation MSE: 0.79 \n",
      "Epoch[22] Iteration[18800/879] Loss: 0.75\n",
      "Epoch[22] Iteration[19200/879] Loss: 0.76\n",
      "Epoch[22] Validation MSE: 0.79 \n",
      "Epoch[23] Iteration[19600/879] Loss: 0.71\n",
      "Epoch[23] Iteration[20000/879] Loss: 0.72\n",
      "Epoch[23] Validation MSE: 0.79 \n",
      "Epoch[24] Iteration[20400/879] Loss: 0.72\n",
      "Epoch[24] Iteration[20800/879] Loss: 0.76\n",
      "Epoch[24] Validation MSE: 0.79 \n",
      "Epoch[25] Iteration[21200/879] Loss: 0.72\n",
      "Epoch[25] Iteration[21600/879] Loss: 0.78\n",
      "Epoch[25] Validation MSE: 0.79 \n",
      "Epoch[26] Iteration[22000/879] Loss: 0.69\n",
      "Epoch[26] Iteration[22400/879] Loss: 0.71\n",
      "Epoch[26] Iteration[22800/879] Loss: 0.79\n",
      "Epoch[26] Validation MSE: 0.79 \n",
      "Epoch[27] Iteration[23200/879] Loss: 0.74\n",
      "Epoch[27] Iteration[23600/879] Loss: 0.77\n",
      "Epoch[27] Validation MSE: 0.79 \n",
      "Epoch[28] Iteration[24000/879] Loss: 0.73\n",
      "Epoch[28] Iteration[24400/879] Loss: 0.78\n",
      "Epoch[28] Validation MSE: 0.79 \n",
      "Epoch[29] Iteration[24800/879] Loss: 0.67\n",
      "Epoch[29] Iteration[25200/879] Loss: 0.70\n",
      "Epoch[29] Validation MSE: 0.79 \n",
      "Epoch[30] Iteration[25600/879] Loss: 0.70\n",
      "Epoch[30] Iteration[26000/879] Loss: 0.75\n",
      "Epoch[30] Validation MSE: 0.78 \n",
      "Epoch[31] Iteration[26400/879] Loss: 0.70\n",
      "Epoch[31] Iteration[26800/879] Loss: 0.69\n",
      "Epoch[31] Iteration[27200/879] Loss: 0.80\n",
      "Epoch[31] Validation MSE: 0.79 \n",
      "Epoch[32] Iteration[27600/879] Loss: 0.79\n",
      "Epoch[32] Iteration[28000/879] Loss: 0.72\n",
      "Epoch[32] Validation MSE: 0.78 \n",
      "Epoch[33] Iteration[28400/879] Loss: 0.72\n",
      "Epoch[33] Iteration[28800/879] Loss: 0.71\n",
      "Epoch[33] Validation MSE: 0.79 \n",
      "Epoch[34] Iteration[29200/879] Loss: 0.65\n",
      "Epoch[34] Iteration[29600/879] Loss: 0.78\n",
      "Epoch[34] Validation MSE: 0.78 \n",
      "Epoch[35] Iteration[30000/879] Loss: 0.68\n",
      "Epoch[35] Iteration[30400/879] Loss: 0.69\n",
      "Epoch[35] Validation MSE: 0.78 \n",
      "Epoch[36] Iteration[30800/879] Loss: 0.68\n",
      "Epoch[36] Iteration[31200/879] Loss: 0.74\n",
      "Epoch[36] Iteration[31600/879] Loss: 0.75\n",
      "Epoch[36] Validation MSE: 0.78 \n",
      "Epoch[37] Iteration[32000/879] Loss: 0.78\n",
      "Epoch[37] Iteration[32400/879] Loss: 0.73\n",
      "Epoch[37] Validation MSE: 0.78 \n",
      "Epoch[38] Iteration[32800/879] Loss: 0.64\n",
      "Epoch[38] Iteration[33200/879] Loss: 0.75\n",
      "Epoch[38] Validation MSE: 0.78 \n",
      "Epoch[39] Iteration[33600/879] Loss: 0.73\n",
      "Epoch[39] Iteration[34000/879] Loss: 0.78\n",
      "Epoch[39] Validation MSE: 0.78 \n",
      "Epoch[40] Iteration[34400/879] Loss: 0.66\n",
      "Epoch[40] Iteration[34800/879] Loss: 0.76\n",
      "Epoch[40] Validation MSE: 0.78 \n",
      "Epoch[41] Iteration[35200/879] Loss: 0.64\n",
      "Epoch[41] Iteration[35600/879] Loss: 0.73\n",
      "Epoch[41] Iteration[36000/879] Loss: 0.70\n",
      "Epoch[41] Validation MSE: 0.78 \n",
      "Epoch[42] Iteration[36400/879] Loss: 0.73\n",
      "Epoch[42] Iteration[36800/879] Loss: 0.76\n",
      "Epoch[42] Validation MSE: 0.78 \n",
      "Epoch[43] Iteration[37200/879] Loss: 0.74\n",
      "Epoch[43] Iteration[37600/879] Loss: 0.77\n",
      "Epoch[43] Validation MSE: 0.78 \n",
      "Epoch[44] Iteration[38000/879] Loss: 0.71\n",
      "Epoch[44] Iteration[38400/879] Loss: 0.70\n",
      "Epoch[44] Validation MSE: 0.78 \n",
      "Epoch[45] Iteration[38800/879] Loss: 0.66\n",
      "Epoch[45] Iteration[39200/879] Loss: 0.78\n",
      "Epoch[45] Validation MSE: 0.78 \n",
      "Epoch[46] Iteration[39600/879] Loss: 0.72\n",
      "Epoch[46] Iteration[40000/879] Loss: 0.76\n",
      "Epoch[46] Iteration[40400/879] Loss: 0.78\n",
      "Epoch[46] Validation MSE: 0.78 \n",
      "Epoch[47] Iteration[40800/879] Loss: 0.73\n",
      "Epoch[47] Iteration[41200/879] Loss: 0.77\n",
      "Epoch[47] Validation MSE: 0.78 \n",
      "Epoch[48] Iteration[41600/879] Loss: 0.72\n",
      "Epoch[48] Iteration[42000/879] Loss: 0.81\n",
      "Epoch[48] Validation MSE: 0.78 \n",
      "Epoch[49] Iteration[42400/879] Loss: 0.71\n",
      "Epoch[49] Iteration[42800/879] Loss: 0.81\n",
      "Epoch[49] Validation MSE: 0.78 \n",
      "Epoch[50] Iteration[43200/879] Loss: 0.67\n",
      "Epoch[50] Iteration[43600/879] Loss: 0.72\n",
      "Epoch[50] Validation MSE: 0.78 \n",
      "Epoch[51] Iteration[44000/879] Loss: 0.66\n",
      "Epoch[51] Iteration[44400/879] Loss: 0.73\n",
      "Epoch[51] Iteration[44800/879] Loss: 0.72\n",
      "Epoch[51] Validation MSE: 0.78 \n",
      "Epoch[52] Iteration[45200/879] Loss: 0.73\n",
      "Epoch[52] Iteration[45600/879] Loss: 0.76\n",
      "Epoch[52] Validation MSE: 0.78 \n",
      "Epoch[53] Iteration[46000/879] Loss: 0.63\n",
      "Epoch[53] Iteration[46400/879] Loss: 0.71\n",
      "Epoch[53] Validation MSE: 0.78 \n",
      "Epoch[54] Iteration[46800/879] Loss: 0.68\n",
      "Epoch[54] Iteration[47200/879] Loss: 0.72\n",
      "Epoch[54] Validation MSE: 0.78 \n",
      "Epoch[55] Iteration[47600/879] Loss: 0.70\n",
      "Epoch[55] Iteration[48000/879] Loss: 0.70\n",
      "Epoch[55] Validation MSE: 0.78 \n",
      "Epoch[56] Iteration[48400/879] Loss: 0.69\n",
      "Epoch[56] Iteration[48800/879] Loss: 0.73\n",
      "Epoch[56] Iteration[49200/879] Loss: 0.78\n",
      "Epoch[56] Validation MSE: 0.78 \n",
      "Epoch[57] Iteration[49600/879] Loss: 0.69\n",
      "Epoch[57] Iteration[50000/879] Loss: 0.75\n",
      "Epoch[57] Validation MSE: 0.78 \n",
      "Epoch[58] Iteration[50400/879] Loss: 0.73\n",
      "Epoch[58] Iteration[50800/879] Loss: 0.74\n",
      "Epoch[58] Validation MSE: 0.78 \n",
      "Epoch[59] Iteration[51200/879] Loss: 0.69\n",
      "Epoch[59] Iteration[51600/879] Loss: 0.76\n",
      "Epoch[59] Validation MSE: 0.78 \n",
      "Epoch[60] Iteration[52000/879] Loss: 0.73\n",
      "Epoch[60] Iteration[52400/879] Loss: 0.69\n",
      "Epoch[60] Validation MSE: 0.78 \n",
      "Epoch[61] Iteration[52800/879] Loss: 0.71\n",
      "Epoch[61] Iteration[53200/879] Loss: 0.78\n",
      "Epoch[61] Iteration[53600/879] Loss: 0.76\n",
      "Epoch[61] Validation MSE: 0.78 \n",
      "Epoch[62] Iteration[54000/879] Loss: 0.72\n",
      "Epoch[62] Iteration[54400/879] Loss: 0.71\n",
      "Epoch[62] Validation MSE: 0.78 \n",
      "Epoch[63] Iteration[54800/879] Loss: 0.70\n",
      "Epoch[63] Iteration[55200/879] Loss: 0.78\n",
      "Epoch[63] Validation MSE: 0.78 \n",
      "Epoch[64] Iteration[55600/879] Loss: 0.72\n",
      "Epoch[64] Iteration[56000/879] Loss: 0.72\n",
      "Epoch[64] Validation MSE: 0.78 \n",
      "Epoch[65] Iteration[56400/879] Loss: 0.72\n",
      "Epoch[65] Iteration[56800/879] Loss: 0.73\n",
      "Epoch[65] Validation MSE: 0.78 \n",
      "Epoch[66] Iteration[57200/879] Loss: 0.67\n",
      "Epoch[66] Iteration[57600/879] Loss: 0.76\n",
      "Epoch[66] Iteration[58000/879] Loss: 0.77\n",
      "Epoch[66] Validation MSE: 0.78 \n",
      "Epoch[67] Iteration[58400/879] Loss: 0.71\n",
      "Epoch[67] Iteration[58800/879] Loss: 0.80\n"
     ]
    },
    {
     "name": "stdout",
     "output_type": "stream",
     "text": [
      "Epoch[67] Validation MSE: 0.78 \n",
      "Epoch[68] Iteration[59200/879] Loss: 0.70\n",
      "Epoch[68] Iteration[59600/879] Loss: 0.78\n",
      "Epoch[68] Validation MSE: 0.78 \n",
      "Epoch[69] Iteration[60000/879] Loss: 0.75\n",
      "Epoch[69] Iteration[60400/879] Loss: 0.70\n",
      "Epoch[69] Validation MSE: 0.78 \n",
      "Epoch[70] Iteration[60800/879] Loss: 0.69\n",
      "Epoch[70] Iteration[61200/879] Loss: 0.78\n",
      "Epoch[70] Validation MSE: 0.78 \n",
      "Epoch[71] Iteration[61600/879] Loss: 0.72\n",
      "Epoch[71] Iteration[62000/879] Loss: 0.78\n",
      "Epoch[71] Iteration[62400/879] Loss: 0.78\n",
      "Epoch[71] Validation MSE: 0.78 \n",
      "Epoch[72] Iteration[62800/879] Loss: 0.75\n",
      "Epoch[72] Iteration[63200/879] Loss: 0.70\n",
      "Epoch[72] Validation MSE: 0.77 \n",
      "Epoch[73] Iteration[63600/879] Loss: 0.70\n",
      "Epoch[73] Iteration[64000/879] Loss: 0.77\n",
      "Epoch[73] Validation MSE: 0.78 \n",
      "Epoch[74] Iteration[64400/879] Loss: 0.72\n",
      "Epoch[74] Iteration[64800/879] Loss: 0.69\n",
      "Epoch[74] Validation MSE: 0.78 \n",
      "Epoch[75] Iteration[65200/879] Loss: 0.68\n",
      "Epoch[75] Iteration[65600/879] Loss: 0.77\n",
      "Epoch[75] Validation MSE: 0.78 \n",
      "Epoch[76] Iteration[66000/879] Loss: 0.70\n",
      "Epoch[76] Iteration[66400/879] Loss: 0.71\n",
      "Epoch[76] Iteration[66800/879] Loss: 0.73\n",
      "Epoch[76] Validation MSE: 0.78 \n",
      "Epoch[77] Iteration[67200/879] Loss: 0.71\n",
      "Epoch[77] Iteration[67600/879] Loss: 0.76\n",
      "Epoch[77] Validation MSE: 0.78 \n",
      "Epoch[78] Iteration[68000/879] Loss: 0.78\n",
      "Epoch[78] Iteration[68400/879] Loss: 0.71\n",
      "Epoch[78] Validation MSE: 0.78 \n",
      "Epoch[79] Iteration[68800/879] Loss: 0.67\n",
      "Epoch[79] Iteration[69200/879] Loss: 0.76\n",
      "Epoch[79] Validation MSE: 0.78 \n",
      "Epoch[80] Iteration[69600/879] Loss: 0.75\n",
      "Epoch[80] Iteration[70000/879] Loss: 0.73\n",
      "Epoch[80] Validation MSE: 0.78 \n",
      "Epoch[81] Iteration[70400/879] Loss: 0.67\n",
      "Epoch[81] Iteration[70800/879] Loss: 0.78\n",
      "Epoch[81] Validation MSE: 0.78 \n",
      "Epoch[82] Iteration[71200/879] Loss: 0.65\n",
      "Epoch[82] Iteration[71600/879] Loss: 0.77\n",
      "Epoch[82] Iteration[72000/879] Loss: 0.74\n",
      "Epoch[82] Validation MSE: 0.78 \n",
      "Epoch[83] Iteration[72400/879] Loss: 0.69\n",
      "Epoch[83] Iteration[72800/879] Loss: 0.73\n",
      "Epoch[83] Validation MSE: 0.78 \n",
      "Epoch[84] Iteration[73200/879] Loss: 0.71\n",
      "Epoch[84] Iteration[73600/879] Loss: 0.78\n",
      "Epoch[84] Validation MSE: 0.78 \n",
      "Epoch[85] Iteration[74000/879] Loss: 0.66\n",
      "Epoch[85] Iteration[74400/879] Loss: 0.74\n",
      "Epoch[85] Validation MSE: 0.78 \n",
      "Epoch[86] Iteration[74800/879] Loss: 0.71\n",
      "Epoch[86] Iteration[75200/879] Loss: 0.76\n",
      "Epoch[86] Validation MSE: 0.78 \n",
      "Epoch[87] Iteration[75600/879] Loss: 0.65\n",
      "Epoch[87] Iteration[76000/879] Loss: 0.70\n",
      "Epoch[87] Iteration[76400/879] Loss: 0.70\n",
      "Epoch[87] Validation MSE: 0.78 \n",
      "Epoch[88] Iteration[76800/879] Loss: 0.75\n",
      "Epoch[88] Iteration[77200/879] Loss: 0.89\n",
      "Epoch[88] Validation MSE: 0.78 \n",
      "Epoch[89] Iteration[77600/879] Loss: 0.73\n",
      "Epoch[89] Iteration[78000/879] Loss: 0.74\n",
      "Epoch[89] Validation MSE: 0.78 \n",
      "Epoch[90] Iteration[78400/879] Loss: 0.66\n",
      "Epoch[90] Iteration[78800/879] Loss: 0.74\n",
      "Epoch[90] Validation MSE: 0.78 \n",
      "Epoch[91] Iteration[79200/879] Loss: 0.66\n",
      "Epoch[91] Iteration[79600/879] Loss: 0.75\n",
      "Epoch[91] Validation MSE: 0.78 \n",
      "Epoch[92] Iteration[80000/879] Loss: 0.67\n",
      "Epoch[92] Iteration[80400/879] Loss: 0.73\n",
      "Epoch[92] Iteration[80800/879] Loss: 0.74\n",
      "Epoch[92] Validation MSE: 0.78 \n",
      "Epoch[93] Iteration[81200/879] Loss: 0.78\n",
      "Epoch[93] Iteration[81600/879] Loss: 0.75\n",
      "Epoch[93] Validation MSE: 0.78 \n",
      "Epoch[94] Iteration[82000/879] Loss: 0.69\n",
      "Epoch[94] Iteration[82400/879] Loss: 0.75\n",
      "Epoch[94] Validation MSE: 0.78 \n",
      "Epoch[95] Iteration[82800/879] Loss: 0.72\n",
      "Epoch[95] Iteration[83200/879] Loss: 0.78\n",
      "Epoch[95] Validation MSE: 0.78 \n",
      "Epoch[96] Iteration[83600/879] Loss: 0.73\n",
      "Epoch[96] Iteration[84000/879] Loss: 0.81\n",
      "Epoch[96] Validation MSE: 0.78 \n",
      "Epoch[97] Iteration[84400/879] Loss: 0.64\n",
      "Epoch[97] Iteration[84800/879] Loss: 0.81\n",
      "Epoch[97] Iteration[85200/879] Loss: 0.76\n",
      "Epoch[97] Validation MSE: 0.78 \n",
      "Epoch[98] Iteration[85600/879] Loss: 0.72\n",
      "Epoch[98] Iteration[86000/879] Loss: 0.71\n",
      "Epoch[98] Validation MSE: 0.78 \n",
      "Epoch[99] Iteration[86400/879] Loss: 0.76\n",
      "Epoch[99] Iteration[86800/879] Loss: 0.70\n",
      "Epoch[99] Validation MSE: 0.78 \n",
      "Epoch[100] Iteration[87200/879] Loss: 0.76\n",
      "Epoch[100] Iteration[87600/879] Loss: 0.77\n"
     ]
    },
    {
     "ename": "KeyboardInterrupt",
     "evalue": "",
     "output_type": "error",
     "traceback": [
      "\u001b[0;31m---------------------------------------------------------------------------\u001b[0m",
      "\u001b[0;31mKeyboardInterrupt\u001b[0m                         Traceback (most recent call last)",
      "\u001b[0;32m<ipython-input-37-f469a584de7a>\u001b[0m in \u001b[0;36m<module>\u001b[0;34m()\u001b[0m\n\u001b[0;32m----> 1\u001b[0;31m \u001b[0mtrainer\u001b[0m\u001b[0;34m.\u001b[0m\u001b[0mrun\u001b[0m\u001b[0;34m(\u001b[0m\u001b[0mtrain_loader\u001b[0m\u001b[0;34m,\u001b[0m \u001b[0mmax_epochs\u001b[0m\u001b[0;34m=\u001b[0m\u001b[0;36m250\u001b[0m\u001b[0;34m)\u001b[0m\u001b[0;34m\u001b[0m\u001b[0m\n\u001b[0m",
      "\u001b[0;32m~/.virtualenvs/simple_mf/lib/python3.6/site-packages/ignite/engine/engine.py\u001b[0m in \u001b[0;36mrun\u001b[0;34m(self, data, max_epochs)\u001b[0m\n\u001b[1;32m    221\u001b[0m         \u001b[0;32mexcept\u001b[0m \u001b[0mBaseException\u001b[0m \u001b[0;32mas\u001b[0m \u001b[0me\u001b[0m\u001b[0;34m:\u001b[0m\u001b[0;34m\u001b[0m\u001b[0m\n\u001b[1;32m    222\u001b[0m             \u001b[0mself\u001b[0m\u001b[0;34m.\u001b[0m\u001b[0m_logger\u001b[0m\u001b[0;34m.\u001b[0m\u001b[0merror\u001b[0m\u001b[0;34m(\u001b[0m\u001b[0;34m\"Engine run is terminating due to exception: %s\"\u001b[0m\u001b[0;34m,\u001b[0m \u001b[0mstr\u001b[0m\u001b[0;34m(\u001b[0m\u001b[0me\u001b[0m\u001b[0;34m)\u001b[0m\u001b[0;34m)\u001b[0m\u001b[0;34m\u001b[0m\u001b[0m\n\u001b[0;32m--> 223\u001b[0;31m             \u001b[0mself\u001b[0m\u001b[0;34m.\u001b[0m\u001b[0m_handle_exception\u001b[0m\u001b[0;34m(\u001b[0m\u001b[0me\u001b[0m\u001b[0;34m)\u001b[0m\u001b[0;34m\u001b[0m\u001b[0m\n\u001b[0m\u001b[1;32m    224\u001b[0m \u001b[0;34m\u001b[0m\u001b[0m\n\u001b[1;32m    225\u001b[0m         \u001b[0;32mreturn\u001b[0m \u001b[0mself\u001b[0m\u001b[0;34m.\u001b[0m\u001b[0mstate\u001b[0m\u001b[0;34m\u001b[0m\u001b[0m\n",
      "\u001b[0;32m~/.virtualenvs/simple_mf/lib/python3.6/site-packages/ignite/engine/engine.py\u001b[0m in \u001b[0;36m_handle_exception\u001b[0;34m(self, e)\u001b[0m\n\u001b[1;32m    186\u001b[0m             \u001b[0mself\u001b[0m\u001b[0;34m.\u001b[0m\u001b[0m_fire_event\u001b[0m\u001b[0;34m(\u001b[0m\u001b[0mEvents\u001b[0m\u001b[0;34m.\u001b[0m\u001b[0mEXCEPTION_RAISED\u001b[0m\u001b[0;34m,\u001b[0m \u001b[0me\u001b[0m\u001b[0;34m)\u001b[0m\u001b[0;34m\u001b[0m\u001b[0m\n\u001b[1;32m    187\u001b[0m         \u001b[0;32melse\u001b[0m\u001b[0;34m:\u001b[0m\u001b[0;34m\u001b[0m\u001b[0m\n\u001b[0;32m--> 188\u001b[0;31m             \u001b[0;32mraise\u001b[0m \u001b[0me\u001b[0m\u001b[0;34m\u001b[0m\u001b[0m\n\u001b[0m\u001b[1;32m    189\u001b[0m \u001b[0;34m\u001b[0m\u001b[0m\n\u001b[1;32m    190\u001b[0m     \u001b[0;32mdef\u001b[0m \u001b[0mrun\u001b[0m\u001b[0;34m(\u001b[0m\u001b[0mself\u001b[0m\u001b[0;34m,\u001b[0m \u001b[0mdata\u001b[0m\u001b[0;34m,\u001b[0m \u001b[0mmax_epochs\u001b[0m\u001b[0;34m=\u001b[0m\u001b[0;36m1\u001b[0m\u001b[0;34m)\u001b[0m\u001b[0;34m:\u001b[0m\u001b[0;34m\u001b[0m\u001b[0m\n",
      "\u001b[0;32m~/.virtualenvs/simple_mf/lib/python3.6/site-packages/ignite/engine/engine.py\u001b[0m in \u001b[0;36mrun\u001b[0;34m(self, data, max_epochs)\u001b[0m\n\u001b[1;32m    208\u001b[0m                 \u001b[0mself\u001b[0m\u001b[0;34m.\u001b[0m\u001b[0mstate\u001b[0m\u001b[0;34m.\u001b[0m\u001b[0mepoch\u001b[0m \u001b[0;34m+=\u001b[0m \u001b[0;36m1\u001b[0m\u001b[0;34m\u001b[0m\u001b[0m\n\u001b[1;32m    209\u001b[0m                 \u001b[0mself\u001b[0m\u001b[0;34m.\u001b[0m\u001b[0m_fire_event\u001b[0m\u001b[0;34m(\u001b[0m\u001b[0mEvents\u001b[0m\u001b[0;34m.\u001b[0m\u001b[0mEPOCH_STARTED\u001b[0m\u001b[0;34m)\u001b[0m\u001b[0;34m\u001b[0m\u001b[0m\n\u001b[0;32m--> 210\u001b[0;31m                 \u001b[0mhours\u001b[0m\u001b[0;34m,\u001b[0m \u001b[0mmins\u001b[0m\u001b[0;34m,\u001b[0m \u001b[0msecs\u001b[0m \u001b[0;34m=\u001b[0m \u001b[0mself\u001b[0m\u001b[0;34m.\u001b[0m\u001b[0m_run_once_on_dataset\u001b[0m\u001b[0;34m(\u001b[0m\u001b[0;34m)\u001b[0m\u001b[0;34m\u001b[0m\u001b[0m\n\u001b[0m\u001b[1;32m    211\u001b[0m                 \u001b[0mself\u001b[0m\u001b[0;34m.\u001b[0m\u001b[0m_logger\u001b[0m\u001b[0;34m.\u001b[0m\u001b[0minfo\u001b[0m\u001b[0;34m(\u001b[0m\u001b[0;34m\"Epoch[%s] Complete. Time taken: %02d:%02d:%02d\"\u001b[0m\u001b[0;34m,\u001b[0m \u001b[0mself\u001b[0m\u001b[0;34m.\u001b[0m\u001b[0mstate\u001b[0m\u001b[0;34m.\u001b[0m\u001b[0mepoch\u001b[0m\u001b[0;34m,\u001b[0m \u001b[0mhours\u001b[0m\u001b[0;34m,\u001b[0m \u001b[0mmins\u001b[0m\u001b[0;34m,\u001b[0m \u001b[0msecs\u001b[0m\u001b[0;34m)\u001b[0m\u001b[0;34m\u001b[0m\u001b[0m\n\u001b[1;32m    212\u001b[0m                 \u001b[0;32mif\u001b[0m \u001b[0mself\u001b[0m\u001b[0;34m.\u001b[0m\u001b[0mshould_terminate\u001b[0m\u001b[0;34m:\u001b[0m\u001b[0;34m\u001b[0m\u001b[0m\n",
      "\u001b[0;32m~/.virtualenvs/simple_mf/lib/python3.6/site-packages/ignite/engine/engine.py\u001b[0m in \u001b[0;36m_run_once_on_dataset\u001b[0;34m(self)\u001b[0m\n\u001b[1;32m    175\u001b[0m         \u001b[0;32mexcept\u001b[0m \u001b[0mBaseException\u001b[0m \u001b[0;32mas\u001b[0m \u001b[0me\u001b[0m\u001b[0;34m:\u001b[0m\u001b[0;34m\u001b[0m\u001b[0m\n\u001b[1;32m    176\u001b[0m             \u001b[0mself\u001b[0m\u001b[0;34m.\u001b[0m\u001b[0m_logger\u001b[0m\u001b[0;34m.\u001b[0m\u001b[0merror\u001b[0m\u001b[0;34m(\u001b[0m\u001b[0;34m\"Current run is terminating due to exception: %s\"\u001b[0m\u001b[0;34m,\u001b[0m \u001b[0mstr\u001b[0m\u001b[0;34m(\u001b[0m\u001b[0me\u001b[0m\u001b[0;34m)\u001b[0m\u001b[0;34m)\u001b[0m\u001b[0;34m\u001b[0m\u001b[0m\n\u001b[0;32m--> 177\u001b[0;31m             \u001b[0mself\u001b[0m\u001b[0;34m.\u001b[0m\u001b[0m_handle_exception\u001b[0m\u001b[0;34m(\u001b[0m\u001b[0me\u001b[0m\u001b[0;34m)\u001b[0m\u001b[0;34m\u001b[0m\u001b[0m\n\u001b[0m\u001b[1;32m    178\u001b[0m \u001b[0;34m\u001b[0m\u001b[0m\n\u001b[1;32m    179\u001b[0m         \u001b[0mtime_taken\u001b[0m \u001b[0;34m=\u001b[0m \u001b[0mtime\u001b[0m\u001b[0;34m.\u001b[0m\u001b[0mtime\u001b[0m\u001b[0;34m(\u001b[0m\u001b[0;34m)\u001b[0m \u001b[0;34m-\u001b[0m \u001b[0mstart_time\u001b[0m\u001b[0;34m\u001b[0m\u001b[0m\n",
      "\u001b[0;32m~/.virtualenvs/simple_mf/lib/python3.6/site-packages/ignite/engine/engine.py\u001b[0m in \u001b[0;36m_handle_exception\u001b[0;34m(self, e)\u001b[0m\n\u001b[1;32m    186\u001b[0m             \u001b[0mself\u001b[0m\u001b[0;34m.\u001b[0m\u001b[0m_fire_event\u001b[0m\u001b[0;34m(\u001b[0m\u001b[0mEvents\u001b[0m\u001b[0;34m.\u001b[0m\u001b[0mEXCEPTION_RAISED\u001b[0m\u001b[0;34m,\u001b[0m \u001b[0me\u001b[0m\u001b[0;34m)\u001b[0m\u001b[0;34m\u001b[0m\u001b[0m\n\u001b[1;32m    187\u001b[0m         \u001b[0;32melse\u001b[0m\u001b[0;34m:\u001b[0m\u001b[0;34m\u001b[0m\u001b[0m\n\u001b[0;32m--> 188\u001b[0;31m             \u001b[0;32mraise\u001b[0m \u001b[0me\u001b[0m\u001b[0;34m\u001b[0m\u001b[0m\n\u001b[0m\u001b[1;32m    189\u001b[0m \u001b[0;34m\u001b[0m\u001b[0m\n\u001b[1;32m    190\u001b[0m     \u001b[0;32mdef\u001b[0m \u001b[0mrun\u001b[0m\u001b[0;34m(\u001b[0m\u001b[0mself\u001b[0m\u001b[0;34m,\u001b[0m \u001b[0mdata\u001b[0m\u001b[0;34m,\u001b[0m \u001b[0mmax_epochs\u001b[0m\u001b[0;34m=\u001b[0m\u001b[0;36m1\u001b[0m\u001b[0;34m)\u001b[0m\u001b[0;34m:\u001b[0m\u001b[0;34m\u001b[0m\u001b[0m\n",
      "\u001b[0;32m~/.virtualenvs/simple_mf/lib/python3.6/site-packages/ignite/engine/engine.py\u001b[0m in \u001b[0;36m_run_once_on_dataset\u001b[0;34m(self)\u001b[0m\n\u001b[1;32m    168\u001b[0m                 \u001b[0mself\u001b[0m\u001b[0;34m.\u001b[0m\u001b[0mstate\u001b[0m\u001b[0;34m.\u001b[0m\u001b[0miteration\u001b[0m \u001b[0;34m+=\u001b[0m \u001b[0;36m1\u001b[0m\u001b[0;34m\u001b[0m\u001b[0m\n\u001b[1;32m    169\u001b[0m                 \u001b[0mself\u001b[0m\u001b[0;34m.\u001b[0m\u001b[0m_fire_event\u001b[0m\u001b[0;34m(\u001b[0m\u001b[0mEvents\u001b[0m\u001b[0;34m.\u001b[0m\u001b[0mITERATION_STARTED\u001b[0m\u001b[0;34m)\u001b[0m\u001b[0;34m\u001b[0m\u001b[0m\n\u001b[0;32m--> 170\u001b[0;31m                 \u001b[0mself\u001b[0m\u001b[0;34m.\u001b[0m\u001b[0mstate\u001b[0m\u001b[0;34m.\u001b[0m\u001b[0moutput\u001b[0m \u001b[0;34m=\u001b[0m \u001b[0mself\u001b[0m\u001b[0;34m.\u001b[0m\u001b[0m_process_function\u001b[0m\u001b[0;34m(\u001b[0m\u001b[0mself\u001b[0m\u001b[0;34m,\u001b[0m \u001b[0mbatch\u001b[0m\u001b[0;34m)\u001b[0m\u001b[0;34m\u001b[0m\u001b[0m\n\u001b[0m\u001b[1;32m    171\u001b[0m                 \u001b[0mself\u001b[0m\u001b[0;34m.\u001b[0m\u001b[0m_fire_event\u001b[0m\u001b[0;34m(\u001b[0m\u001b[0mEvents\u001b[0m\u001b[0;34m.\u001b[0m\u001b[0mITERATION_COMPLETED\u001b[0m\u001b[0;34m)\u001b[0m\u001b[0;34m\u001b[0m\u001b[0m\n\u001b[1;32m    172\u001b[0m                 \u001b[0;32mif\u001b[0m \u001b[0mself\u001b[0m\u001b[0;34m.\u001b[0m\u001b[0mshould_terminate\u001b[0m\u001b[0;34m:\u001b[0m\u001b[0;34m\u001b[0m\u001b[0m\n",
      "\u001b[0;32m~/.virtualenvs/simple_mf/lib/python3.6/site-packages/ignite/engine/__init__.py\u001b[0m in \u001b[0;36m_update\u001b[0;34m(engine, batch)\u001b[0m\n\u001b[1;32m     33\u001b[0m         \u001b[0my_pred\u001b[0m \u001b[0;34m=\u001b[0m \u001b[0mmodel\u001b[0m\u001b[0;34m(\u001b[0m\u001b[0mx\u001b[0m\u001b[0;34m)\u001b[0m\u001b[0;34m\u001b[0m\u001b[0m\n\u001b[1;32m     34\u001b[0m         \u001b[0mloss\u001b[0m \u001b[0;34m=\u001b[0m \u001b[0mloss_fn\u001b[0m\u001b[0;34m(\u001b[0m\u001b[0my_pred\u001b[0m\u001b[0;34m,\u001b[0m \u001b[0my\u001b[0m\u001b[0;34m)\u001b[0m\u001b[0;34m\u001b[0m\u001b[0m\n\u001b[0;32m---> 35\u001b[0;31m         \u001b[0mloss\u001b[0m\u001b[0;34m.\u001b[0m\u001b[0mbackward\u001b[0m\u001b[0;34m(\u001b[0m\u001b[0;34m)\u001b[0m\u001b[0;34m\u001b[0m\u001b[0m\n\u001b[0m\u001b[1;32m     36\u001b[0m         \u001b[0moptimizer\u001b[0m\u001b[0;34m.\u001b[0m\u001b[0mstep\u001b[0m\u001b[0;34m(\u001b[0m\u001b[0;34m)\u001b[0m\u001b[0;34m\u001b[0m\u001b[0m\n\u001b[1;32m     37\u001b[0m         \u001b[0;32mreturn\u001b[0m \u001b[0mloss\u001b[0m\u001b[0;34m.\u001b[0m\u001b[0mitem\u001b[0m\u001b[0;34m(\u001b[0m\u001b[0;34m)\u001b[0m\u001b[0;34m\u001b[0m\u001b[0m\n",
      "\u001b[0;32m~/.virtualenvs/simple_mf/lib/python3.6/site-packages/torch/tensor.py\u001b[0m in \u001b[0;36mbackward\u001b[0;34m(self, gradient, retain_graph, create_graph)\u001b[0m\n\u001b[1;32m     91\u001b[0m                 \u001b[0mproducts\u001b[0m\u001b[0;34m.\u001b[0m \u001b[0mDefaults\u001b[0m \u001b[0mto\u001b[0m\u001b[0;31m \u001b[0m\u001b[0;31m`\u001b[0m\u001b[0;31m`\u001b[0m\u001b[0;32mFalse\u001b[0m\u001b[0;31m`\u001b[0m\u001b[0;31m`\u001b[0m\u001b[0;34m.\u001b[0m\u001b[0;34m\u001b[0m\u001b[0m\n\u001b[1;32m     92\u001b[0m         \"\"\"\n\u001b[0;32m---> 93\u001b[0;31m         \u001b[0mtorch\u001b[0m\u001b[0;34m.\u001b[0m\u001b[0mautograd\u001b[0m\u001b[0;34m.\u001b[0m\u001b[0mbackward\u001b[0m\u001b[0;34m(\u001b[0m\u001b[0mself\u001b[0m\u001b[0;34m,\u001b[0m \u001b[0mgradient\u001b[0m\u001b[0;34m,\u001b[0m \u001b[0mretain_graph\u001b[0m\u001b[0;34m,\u001b[0m \u001b[0mcreate_graph\u001b[0m\u001b[0;34m)\u001b[0m\u001b[0;34m\u001b[0m\u001b[0m\n\u001b[0m\u001b[1;32m     94\u001b[0m \u001b[0;34m\u001b[0m\u001b[0m\n\u001b[1;32m     95\u001b[0m     \u001b[0;32mdef\u001b[0m \u001b[0mregister_hook\u001b[0m\u001b[0;34m(\u001b[0m\u001b[0mself\u001b[0m\u001b[0;34m,\u001b[0m \u001b[0mhook\u001b[0m\u001b[0;34m)\u001b[0m\u001b[0;34m:\u001b[0m\u001b[0;34m\u001b[0m\u001b[0m\n",
      "\u001b[0;32m~/.virtualenvs/simple_mf/lib/python3.6/site-packages/torch/autograd/__init__.py\u001b[0m in \u001b[0;36mbackward\u001b[0;34m(tensors, grad_tensors, retain_graph, create_graph, grad_variables)\u001b[0m\n\u001b[1;32m     88\u001b[0m     Variable._execution_engine.run_backward(\n\u001b[1;32m     89\u001b[0m         \u001b[0mtensors\u001b[0m\u001b[0;34m,\u001b[0m \u001b[0mgrad_tensors\u001b[0m\u001b[0;34m,\u001b[0m \u001b[0mretain_graph\u001b[0m\u001b[0;34m,\u001b[0m \u001b[0mcreate_graph\u001b[0m\u001b[0;34m,\u001b[0m\u001b[0;34m\u001b[0m\u001b[0m\n\u001b[0;32m---> 90\u001b[0;31m         allow_unreachable=True)  # allow_unreachable flag\n\u001b[0m\u001b[1;32m     91\u001b[0m \u001b[0;34m\u001b[0m\u001b[0m\n\u001b[1;32m     92\u001b[0m \u001b[0;34m\u001b[0m\u001b[0m\n",
      "\u001b[0;31mKeyboardInterrupt\u001b[0m: "
     ]
    }
   ],
   "source": [
    "trainer.run(train_loader, max_epochs=250)"
   ]
  }
 ],
 "metadata": {
  "celltoolbar": "Slideshow",
  "kernelspec": {
   "display_name": "Python 3",
   "language": "python",
   "name": "python3"
  },
  "language_info": {
   "codemirror_mode": {
    "name": "ipython",
    "version": 3
   },
   "file_extension": ".py",
   "mimetype": "text/x-python",
   "name": "python",
   "nbconvert_exporter": "python",
   "pygments_lexer": "ipython3",
   "version": "3.6.5"
  }
 },
 "nbformat": 4,
 "nbformat_minor": 2
}
